{
 "cells": [
  {
   "cell_type": "code",
   "execution_count": 1,
   "id": "9e7e1822",
   "metadata": {},
   "outputs": [],
   "source": [
    "import pandas as pd\n",
    "import numpy as np\n",
    "import matplotlib.pyplot as plt\n",
    "import seaborn as sns\n",
    "from sklearn.preprocessing import StandardScaler\n",
    "from imblearn.over_sampling import RandomOverSampler"
   ]
  },
  {
   "cell_type": "code",
   "execution_count": null,
   "id": "2016b8bf",
   "metadata": {},
   "outputs": [],
   "source": []
  },
  {
   "cell_type": "code",
   "execution_count": 2,
   "id": "db3d1e6d",
   "metadata": {},
   "outputs": [],
   "source": [
    "df_test = pd.read_csv('alzheimers_disease_data.csv')"
   ]
  },
  {
   "cell_type": "code",
   "execution_count": 3,
   "id": "0ab9620f",
   "metadata": {},
   "outputs": [],
   "source": [
    "cols = df_test.columns.tolist()\n",
    "target_col ='Diagnosis'\n",
    "cols.remove(target_col)\n",
    "cols.append(target_col)\n",
    "df_reordered = df_test[cols]\n",
    "df_test = df_reordered\n",
    "\n",
    "\n"
   ]
  },
  {
   "cell_type": "code",
   "execution_count": 4,
   "id": "b3e19b5e",
   "metadata": {},
   "outputs": [],
   "source": [
    "df_test = df_test.drop(['DoctorInCharge'], axis=1, errors='ignore')\n"
   ]
  },
  {
   "cell_type": "code",
   "execution_count": null,
   "id": "ecf0d083",
   "metadata": {},
   "outputs": [],
   "source": [
    "df_test.head()"
   ]
  },
  {
   "cell_type": "code",
   "execution_count": null,
   "id": "d9af33d2",
   "metadata": {},
   "outputs": [],
   "source": [
    "df_test.tail()"
   ]
  },
  {
   "cell_type": "code",
   "execution_count": null,
   "id": "9c3d53fe",
   "metadata": {},
   "outputs": [],
   "source": [
    "df_test.info()"
   ]
  },
  {
   "cell_type": "code",
   "execution_count": null,
   "id": "2bfcff79",
   "metadata": {},
   "outputs": [],
   "source": [
    "df_test.describe()"
   ]
  },
  {
   "cell_type": "code",
   "execution_count": null,
   "id": "4531f345",
   "metadata": {},
   "outputs": [],
   "source": [
    "plt.figure(figsize = (8,5))\n",
    "sns.countplot(data = df_test , x = df_test['Diagnosis'])\n",
    "plt.title(\"Count plot of Diagnosis\")"
   ]
  },
  {
   "cell_type": "code",
   "execution_count": null,
   "id": "db3ad53a",
   "metadata": {},
   "outputs": [],
   "source": [
    "plt.figure(figsize = (8 , 5))\n",
    "sns.barplot(data = df_test ,x =\"Age\" , y = \"Diagnosis\" )\n",
    "plt.title(\"Distribution of Age vs Diagnosis\")"
   ]
  },
  {
   "cell_type": "code",
   "execution_count": null,
   "id": "b613ff8f",
   "metadata": {},
   "outputs": [],
   "source": [
    "plt.figure(figsize = (8 , 5))\n",
    "sns.countplot(data = df_test , x = \"Diagnosis\" , hue = \"Gender\")\n",
    "plt.title(\"Distribution of Gender vs Diagnosis\")"
   ]
  },
  {
   "cell_type": "code",
   "execution_count": null,
   "id": "6bb9e8f3",
   "metadata": {},
   "outputs": [],
   "source": [
    "\n",
    "plt.figure(figsize = (8 , 5))\n",
    "\n",
    "diagnosis_labels = ['No Disease', 'Disease Present'] # Adjust based on your actual data\n",
    "education_labels = ['None', 'High School', 'Bachelor', 'Higher'] \n",
    "\n",
    "df_test['Diagnosis Mapped'] = df_test['Diagnosis'].map({i: label for i, label in enumerate(diagnosis_labels)})\n",
    "df_test['Education Mapped'] = df_test['EducationLevel'].map({i: label for i, label in enumerate(education_labels)})\n",
    "\n",
    "\n",
    "sns.countplot(data = df_test , x = \"Diagnosis Mapped\" , hue = \"Education Mapped\")\n",
    "plt.title(\"Distribution of EducationLevel vs Diagnosis\")"
   ]
  },
  {
   "cell_type": "code",
   "execution_count": null,
   "id": "bca9c7b2",
   "metadata": {},
   "outputs": [],
   "source": [
    "plt.figure(figsize = (8 , 5))\n",
    "\n",
    "diagnosis_labels = ['No Disease', 'Disease Present'] # Adjust based on your actual data\n",
    "Familyhistory_label = ['No ', 'Yes'] \n",
    "\n",
    "df_test['Diagnosis Mapped'] = df_test['Diagnosis'].map({i: label for i, label in enumerate(diagnosis_labels)})\n",
    "df_test['Family History Mapped'] = df_test['EducationLevel'].map({i: label for i, label in enumerate(Familyhistory_label)})\n",
    "\n",
    "pd.crosstab(df_test['Family History Mapped'], df_test['Diagnosis Mapped']).plot(kind='bar', stacked=True)\n",
    "plt.title(\"Distribution of Family History vs Diagnosis\")"
   ]
  },
  {
   "cell_type": "code",
   "execution_count": null,
   "id": "3fd915a0",
   "metadata": {},
   "outputs": [],
   "source": [
    "plt.figure(figsize = (8 , 5))\n",
    "\n",
    "diagnosis_labels = ['No Disease', 'Disease Present'] # Adjust based on your actual data\n",
    "\n",
    "\n",
    "df_test['Diagnosis Mapped'] = df_test['Diagnosis'].map({i: label for i, label in enumerate(diagnosis_labels)})\n",
    "\n",
    "\n",
    "sns.violinplot(data = df_test , x = 'Diagnosis Mapped' , y = 'BMI')\n",
    "plt.title(\"Diagnosis VS BMI\")"
   ]
  },
  {
   "cell_type": "code",
   "execution_count": null,
   "id": "648b6460",
   "metadata": {},
   "outputs": [],
   "source": [
    "plt.figure(figsize = (8 ,6))\n",
    "diagnosis_labels = ['No Disease' , 'Disease Present']\n",
    "smoking_labeles = ['No' , 'Yes']\n",
    "\n",
    "df_test['Diagnosis Mapped'] = df_test['Diagnosis'].map({i: label for i, label in enumerate(diagnosis_labels)})\n",
    "df_test['Smoking Mapped'] = df_test['Smoking'].map({i: label for i, label in enumerate(smoking_labeles)})\n",
    "sns.countplot(data = df_test , x = \"Smoking Mapped\" , hue=\"Diagnosis Mapped\")\n",
    "plt.title(\"Smoking vs Diagnosis\")"
   ]
  },
  {
   "cell_type": "code",
   "execution_count": null,
   "id": "822dfa10",
   "metadata": {},
   "outputs": [],
   "source": [
    "\n",
    "plt.figure(figsize = (8 ,6))\n",
    "diagnosis_labels = ['No Disease', 'Disease Present'] # Adjust based on your actual data\n",
    "\n",
    "\n",
    "df_test['Diagnosis Mapped'] = df_test['Diagnosis'].map({i: label for i, label in enumerate(diagnosis_labels)})\n",
    "\n",
    "\n",
    "sns.boxplot(data = df_test , x = 'Diagnosis Mapped' , y = 'SleepQuality')\n",
    "plt.title(\"Sleep vs Diagnosis\")"
   ]
  },
  {
   "cell_type": "code",
   "execution_count": null,
   "id": "32116423",
   "metadata": {},
   "outputs": [],
   "source": [
    "plt.figure(figsize = (8 ,6))\n",
    "diagnosis_labels = ['No Disease', 'Disease Present'] # Adjust based on your actual data\n",
    "\n",
    "\n",
    "df_test['Diagnosis Mapped'] = df_test['Diagnosis'].map({i: label for i, label in enumerate(diagnosis_labels)})\n",
    "\n",
    "\n",
    "sns.boxplot(data = df_test , x = 'Diagnosis Mapped' , y = 'DiastolicBP')\n",
    "plt.title(\"DiastolicBP vs Diagnosis\")"
   ]
  },
  {
   "cell_type": "code",
   "execution_count": null,
   "id": "457d9175",
   "metadata": {},
   "outputs": [],
   "source": [
    "plt.figure(figsize = (8 ,6))\n",
    "diagnosis_labels = ['No Disease', 'Disease Present'] # Adjust based on your actual data\n",
    "\n",
    "\n",
    "df_test['Diagnosis Mapped'] = df_test['Diagnosis'].map({i: label for i, label in enumerate(diagnosis_labels)})\n",
    "\n",
    "\n",
    "sns.boxplot(data = df_test , x = 'Diagnosis Mapped' , y = 'SystolicBP')\n",
    "plt.title(\"SystoicBP vs Diagnosis\")"
   ]
  },
  {
   "cell_type": "code",
   "execution_count": null,
   "id": "a3bfe3be",
   "metadata": {},
   "outputs": [],
   "source": [
    "cholesterol_cols = ['CholesterolTotal', 'CholesterolLDL', 'CholesterolHDL', 'CholesterolTriglycerides']\n",
    "\n",
    "for col in cholesterol_cols:\n",
    "    plt.figure(figsize = (8 , 6))\n",
    "    diagnosis_labels = ['No Disease', 'Disease Present'] # Adjust based on your actual data\n",
    "    df_test['Diagnosis Mapped'] = df_test['Diagnosis'].map({i: label for i, label in enumerate(diagnosis_labels)})\n",
    "    sns.pairplot(data = df_test, hue='Diagnosis', vars=cholesterol_cols)\n",
    "    plt.title(f'{col} vs Diagnosis')\n",
    "    plt.show()\n",
    "        \n",
    "        \n",
    "\n",
    "\n",
    "\n",
    "\n",
    "    "
   ]
  },
  {
   "cell_type": "code",
   "execution_count": null,
   "id": "77dfad3d",
   "metadata": {},
   "outputs": [],
   "source": [
    "plt.figure(figsize = (8 ,6))\n",
    "diagnosis_labels = ['No Disease', 'Disease Present'] # Adjust based on your actual data\n",
    "\n",
    "\n",
    "df_test['Diagnosis Mapped'] = df_test['Diagnosis'].map({i: label for i, label in enumerate(diagnosis_labels)})\n",
    "\n",
    "\n",
    "sns.boxplot(data = df_test , x = 'Diagnosis Mapped' , y = 'MMSE')\n",
    "plt.title(\"SystoicBP vs Diagnosis\")"
   ]
  },
  {
   "cell_type": "code",
   "execution_count": null,
   "id": "bc71d91b",
   "metadata": {},
   "outputs": [],
   "source": [
    "Functionals_cols = ['FunctionalAssessment', 'ADL' , 'MMSE']\n",
    "\n",
    "for col in Functionals_cols:\n",
    "    plt.figure(figsize = (8 , 6))\n",
    "    diagnosis_labels = ['No Disease', 'Disease Present'] # Adjust based on your actual data\n",
    "    df_test['Diagnosis Mapped'] = df_test['Diagnosis'].map({i: label for i, label in enumerate(diagnosis_labels)})\n",
    "    sns.boxplot(data = df_test, x='Diagnosis Mapped', y = col)\n",
    "    plt.title(f'{col} vs Diagnosis')\n",
    "    plt.show()"
   ]
  },
  {
   "cell_type": "code",
   "execution_count": null,
   "id": "251b79de",
   "metadata": {},
   "outputs": [],
   "source": [
    "Functionals_cols = ['FunctionalAssessment', 'ADL']\n",
    "\n",
    "for col in Functionals_cols:\n",
    "    plt.figure(figsize = (8 , 6))\n",
    "    diagnosis_labels = ['No Disease', 'Disease Present'] # Adjust based on your actual data\n",
    "    df_test['Diagnosis Mapped'] = df_test['Diagnosis'].map({i: label for i, label in enumerate(diagnosis_labels)})\n",
    "    sns.boxplot(data = df_test, x='Diagnosis Mapped', y = col)\n",
    "    plt.title(f'{col} vs Diagnosis')\n",
    "    plt.show()"
   ]
  },
  {
   "cell_type": "code",
   "execution_count": null,
   "id": "eb5bfc46",
   "metadata": {},
   "outputs": [],
   "source": [
    "\n",
    "\n",
    "# Setup the data mapping\n",
    "Memory_Behavioral_Symptoms_cols = {\n",
    "    'Forgetfulness': ['No', 'Yes'],\n",
    "    'Disorientation': ['No', 'Yes'],\n",
    "    'PersonalityChanges': ['No', 'Yes']\n",
    "}\n",
    "\n",
    "diagnosis_labels = ['No Disease', 'Disease Present']\n",
    "\n",
    "# Map the values\n",
    "df_test['Diagnosis Mapped'] = df_test['Diagnosis'].map({i: label for i, label in enumerate(diagnosis_labels)})\n",
    "df_test['Forgetfulness Mapped'] = df_test['Forgetfulness'].map({i: label for i, label in enumerate(Memory_Behavioral_Symptoms_cols['Forgetfulness'])})\n",
    "\n",
    "\n",
    "# METHOD 2: Heatmap showing the relationship\n",
    "plt.figure(figsize=(8, 6))\n",
    "\n",
    "# Create a proper crosstab for heatmap\n",
    "crosstab_counts = pd.crosstab(df_test['Forgetfulness Mapped'], df_test['Diagnosis Mapped'])\n",
    "crosstab_pct_heatmap = pd.crosstab(df_test['Forgetfulness Mapped'], df_test['Diagnosis Mapped'], normalize='columns') * 100\n",
    "\n",
    "sns.heatmap(crosstab_pct_heatmap, annot=True, cmap='RdYlBu_r', fmt='.1f', \n",
    "           cbar_kws={'label': 'Percentage (%)'})\n",
    "plt.title('Forgetfulness vs Diagnosis Heatmap\\n(Percentage within each diagnosis group)')\n",
    "plt.ylabel('Forgetfulness')\n",
    "plt.xlabel('Diagnosis')\n",
    "plt.show()\n",
    "\n"
   ]
  },
  {
   "cell_type": "code",
   "execution_count": null,
   "id": "58fcdab7",
   "metadata": {},
   "outputs": [],
   "source": [
    "# Setup the data mapping\n",
    "Memory_Behavioral_Symptoms_cols = {\n",
    "    'Forgetfulness': ['No', 'Yes'],\n",
    "    'Disorientation': ['No', 'Yes'],\n",
    "    'PersonalityChanges': ['No', 'Yes']\n",
    "}\n",
    "\n",
    "diagnosis_labels = ['No Disease', 'Disease Present']\n",
    "\n",
    "# Map the values\n",
    "df_test['Diagnosis Mapped'] = df_test['Diagnosis'].map({i: label for i, label in enumerate(diagnosis_labels)})\n",
    "df_test['Disorientation Mapped'] = df_test['Disorientation'].map({i: label for i, label in enumerate(Memory_Behavioral_Symptoms_cols['Forgetfulness'])})\n",
    "\n",
    "\n",
    "# METHOD 2: Heatmap showing the relationship\n",
    "plt.figure(figsize=(8, 6))\n",
    "\n",
    "# Create a proper crosstab for heatmap\n",
    "crosstab_counts = pd.crosstab(df_test['Disorientation Mapped'], df_test['Diagnosis Mapped'])\n",
    "crosstab_pct_heatmap = pd.crosstab(df_test['Disorientation Mapped'], df_test['Diagnosis Mapped'], normalize='columns') * 100\n",
    "\n",
    "sns.heatmap(crosstab_pct_heatmap, annot=True, cmap='RdYlBu_r', fmt='.1f', \n",
    "           cbar_kws={'label': 'Percentage (%)'})\n",
    "plt.title('Disorientation vs Diagnosis Heatmap\\n(Percentage within each diagnosis group)')\n",
    "plt.ylabel('Disorientation')\n",
    "plt.xlabel('Diagnosis')\n",
    "plt.show()\n",
    "\n"
   ]
  },
  {
   "cell_type": "code",
   "execution_count": null,
   "id": "5a56cfeb",
   "metadata": {},
   "outputs": [],
   "source": [
    "# Setup the data mapping\n",
    "Memory_Behavioral_Symptoms_cols = {\n",
    "    'Forgetfulness': ['No', 'Yes'],\n",
    "    'Disorientation': ['No', 'Yes'],\n",
    "    'PersonalityChanges': ['No', 'Yes']\n",
    "}\n",
    "\n",
    "diagnosis_labels = ['No Disease', 'Disease Present']\n",
    "\n",
    "# Map the values\n",
    "df_test['Diagnosis Mapped'] = df_test['Diagnosis'].map({i: label for i, label in enumerate(diagnosis_labels)})\n",
    "df_test['PersonalityChanges Mapped'] = df_test['Disorientation'].map({i: label for i, label in enumerate(Memory_Behavioral_Symptoms_cols['Forgetfulness'])})\n",
    "\n",
    "\n",
    "# METHOD 2: Heatmap showing the relationship\n",
    "plt.figure(figsize=(8, 6))\n",
    "\n",
    "# Create a proper crosstab for heatmap\n",
    "crosstab_counts = pd.crosstab(df_test['PersonalityChanges Mapped'], df_test['Diagnosis Mapped'])\n",
    "crosstab_pct_heatmap = pd.crosstab(df_test['PersonalityChanges Mapped'], df_test['Diagnosis Mapped'], normalize='columns') * 100\n",
    "\n",
    "sns.heatmap(crosstab_pct_heatmap, annot=True, cmap='RdYlBu_r', fmt='.1f', \n",
    "           cbar_kws={'label': 'Percentage (%)'})\n",
    "plt.title('PersonalityChanges vs Diagnosis Heatmap\\n(Percentage within each diagnosis group)')\n",
    "plt.ylabel('PersonalityChanges')\n",
    "plt.xlabel('Diagnosis')\n",
    "plt.show()"
   ]
  },
  {
   "cell_type": "code",
   "execution_count": 13,
   "id": "a2dee1a6",
   "metadata": {},
   "outputs": [
    {
     "name": "stderr",
     "output_type": "stream",
     "text": [
      "C:\\Users\\aveli\\anaconda3\\envs\\cop501CW\\lib\\site-packages\\numpy\\_core\\fromnumeric.py:57: FutureWarning: 'DataFrame.swapaxes' is deprecated and will be removed in a future version. Please use 'DataFrame.transpose' instead.\n",
      "  return bound(*args, **kwds)\n"
     ]
    }
   ],
   "source": [
    "train, valid, test = np.split(df_test.sample(frac=1), [int(0.6*len(df_test)), int(0.8*len(df_test))])"
   ]
  },
  {
   "cell_type": "code",
   "execution_count": 22,
   "id": "4708c77d",
   "metadata": {},
   "outputs": [],
   "source": [
    "def scale_dataset(dataframe, oversample = False):\n",
    "    X = dataframe.iloc[:, :-1].values\n",
    "    y = dataframe.iloc[:, -1].values\n",
    "    scalr = StandardScaler()\n",
    "    X = scalr.fit_transform(X)\n",
    "    \n",
    "    if oversample:\n",
    "        ros = RandomOverSampler()\n",
    "        X, y = ros.fit_resample(X, y)\n",
    "       \n",
    "        \n",
    "    \n",
    "    data = np.hstack((X, np.reshape(y, (-1, 1))))\n",
    "    return data , X, y\n",
    "\n"
   ]
  },
  {
   "cell_type": "code",
   "execution_count": 23,
   "id": "08283dc7",
   "metadata": {},
   "outputs": [],
   "source": [
    "train, X_train, y_train = scale_dataset(train, oversample=True)\n",
    "valid, X_valid, y_valid = scale_dataset(valid, oversample=False)\n",
    "test, X_test, y_test = scale_dataset(test, oversample=False)"
   ]
  },
  {
   "cell_type": "code",
   "execution_count": null,
   "id": "4b8ac6ba",
   "metadata": {},
   "outputs": [],
   "source": [
    "sum(y_train ==0)"
   ]
  },
  {
   "cell_type": "code",
   "execution_count": null,
   "id": "c176243e",
   "metadata": {},
   "outputs": [],
   "source": []
  }
 ],
 "metadata": {
  "kernelspec": {
   "display_name": "Python 3 (ipykernel)",
   "language": "python",
   "name": "python3"
  },
  "language_info": {
   "codemirror_mode": {
    "name": "ipython",
    "version": 3
   },
   "file_extension": ".py",
   "mimetype": "text/x-python",
   "name": "python",
   "nbconvert_exporter": "python",
   "pygments_lexer": "ipython3",
   "version": "3.10.16"
  }
 },
 "nbformat": 4,
 "nbformat_minor": 5
}
